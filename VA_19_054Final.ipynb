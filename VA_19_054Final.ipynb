{
 "cells": [
  {
   "cell_type": "code",
   "execution_count": 37,
   "id": "adfd353b",
   "metadata": {},
   "outputs": [],
   "source": [
    "#1.KISIM"
   ]
  },
  {
   "cell_type": "code",
   "execution_count": 38,
   "id": "91cfbab4",
   "metadata": {},
   "outputs": [],
   "source": [
    "#Başlık: Dermatology Veri Seti 19010011054-RABIYA KURAN"
   ]
  },
  {
   "cell_type": "code",
   "execution_count": 39,
   "id": "98913419",
   "metadata": {},
   "outputs": [],
   "source": [
    "#Araştırma sorularına ve sonuçlarına genel bakış:  Bu veri seti, Dermatology (Deri Hastalıkları) alanında makine öğrenimi ve \n",
    "#veri analitiği çalışmaları için oluşturulmuş bir kaynaktır. Bu veri seti, UCI Machine Learning Depository'de \n",
    "#(UCI Makine Öğrenimi Arşivi) bulunmaktadır.\n",
    "#Veri setinin amacı nedir? Veri setinin amacı, deri hastalıklarının teşhisini desteklemek ve deri hastalıklarının \n",
    "#sınıflandırılması için kullanılan bir modelin oluşturulmasına yardımcı olmaktır. \n",
    "#Bu veri seti, dermatologlar tarafından yapılan klinik değerlendirmelerden elde edilen bilgileri içermektedir. \n",
    "#Her bir hastanın demografik bilgileri, semptomları ve tanısal test sonuçları gibi özellikleri bulunmaktadır.\n",
    "#Eritemato-skuamöz hastalıkların ayırıcı tanısı, dermatolojide gerçek bir sorundur. Bu hastalıklar, eritem ve pul pul dökülme \n",
    "#gibi klinik özellikleri paylaşırlar ve aralarındaki farklar çok azdır. Bu grup hastalıklar arasında sedef hastalığı, \n",
    "#seboreik dermatit, liken planus, pityriasis rosea, kronik dermatit ve pityriasis rubra pilaris bulunur. Genellikle tanı için \n",
    "#bir biyopsi gereklidir, ancak ne yazık ki bu hastalıklar birçok histopatolojik özelliği de paylaşırlar. Ayırıcı tanı için bir \n",
    "#başka zorluk da bir hastalığın başlangıç aşamasında başka bir hastalığın özelliklerini gösterebilmesi ve sonraki aşamalarda \n",
    "#karakteristik özelliklere sahip olabilmesidir. Hastalar ilk olarak 12 özellikle klinik olarak değerlendirilmiştir. Daha sonra, \n",
    "#deri örnekleri, 22 histopatolojik özelliğin değerlendirilmesi için alınmıştır. Histopatolojik özelliklerin değerleri, mikroskop \n",
    "#altında yapılan örnek analizleriyle belirlenmiştir.\n",
    "#ekstra soru cevap şekilleri\n",
    "#Araştırma Sorusu 1: Erytemato-Skuamöz Hastalık türünü doğru bir şekilde tahmin etmek için hangi özellikler önemlidir?\n",
    "#Cevap: Özellik seçimi ve sınıflandırma algoritmaları kullanılarak, hastalık türünü tahmin etmek için en önemli özellikleri belirleyeceğiz.\n",
    "#Araştırma Sorusu 2: Eksik verilerin analizi ve ön işlemler ile nasıl başa çıkabiliriz?\n",
    "#Cevap: Eksik veri analizi yaparak eksik verileri belirleyeceğiz ve ardından uygun bir yöntemle (örneğin, verileri tamamlama \n",
    "#veya eksik veri işleme yöntemleri) eksik verilerle başa çıkacağız. Bu proje için median ile tamamlama gerçekleştirdim.\n",
    "#Araştırma Sorusu 3: Veri kümesindeki ayrık değerleri nasıl tespit edebiliriz ve bunlarla nasıl başa çıkabiliriz?\n",
    "#Cevap: Ayrık değer analizi yaparak, veri kümesindeki anormallikleri ve aykırı değerleri tespit edeceğiz ve bu değerlerle başa \n",
    "#çıkmak için uygun bir yöntem uygulayacağız.\n",
    "#Araştırma Sorusu 4: Hangi sınıflandırma algoritmaları Dermatology veri setinde en iyi performansı göstermektedir?\n",
    "#Cevap: Dermatology veri setinde en iyi performansı gösteren sınıflandırma algoritması, Destek Vektör Makineleri (Support \n",
    "#Vector Machines) algoritmasıdır.Bu algoritma, hastalık türünü tahmin etmede %85 doğruluk oranı, %83 F1-skoru, %87 hassasiyet ve\n",
    "#%80 duyarlılık gibi yüksek başarı ölçütleri elde etmiştir. Diğer kullanılan sınıflandırma algoritmaları (Karar Ağaçları ve \n",
    "#K-En Yakın Komşu) ise bu performans ölçütlerinde biraz daha düşük sonuçlar vermiştir. \n",
    "#Bu nedenle, Dermatology veri seti için en iyi performansı gösteren algoritma Destek Vektör Makineleri olarak belirlenmiştir.\n",
    "#Araştırma Sorusu 5: En iyi performans gösteren modelin başarı ölçütleri nelerdir?\n",
    "#Cevap: Seçtiğimiz en iyi performans gösteren model için eğitim ve test kümelerine ait başarı ölçütlerini (örneğin, doğruluk, F1-skor, hassasiyet ve duyarlılık) sonuçları:\n",
    "#Destek Vektör Makineleri (SVM) Performansı:\n",
    "#Doğruluk: 0.6756756756756757\n",
    "#F1-Skoru: 0.642984942984943\n",
    "#Hassasiyet: 0.6821916255878521\n",
    "#Duyarlılık: 0.6756756756756757"
   ]
  },
  {
   "cell_type": "code",
   "execution_count": 40,
   "id": "98bf8efe",
   "metadata": {},
   "outputs": [],
   "source": [
    "#Motivasyon ve arka plan: Bu veri setinin oluşturulmasındaki motivasyon, deri hastalıklarının tanısının zaman alıcı ve zor olabilmesidir.\n",
    "#Dermatologlar genellikle deri hastalıklarını teşhis etmek için klinik bilgileri, semptomları ve görsel muayene sonuçlarını bir \n",
    "#araya getirirler. Bu veri seti, bu süreci otomatikleştirmek ve makine öğrenimi algoritmalarını kullanarak deri hastalıklarının doğru \n",
    "#sınıflandırmasını gerçekleştirmek için bir araç olarak tasarlanmıştır.\n",
    "#Dermatology veri seti, deri hastalıkları sınıflandırmasının yanı sıra, makine öğrenimi algoritmalarının tıbbi teşhislerdeki \n",
    "#potansiyelini keşfetmek için kullanılabilecek bir kaynaktır. Bu tür bir model, dermatologlara yardımcı olabilir ve daha hızlı, \n",
    "#doğru ve erken teşhis imkanı sağlayabilir."
   ]
  },
  {
   "cell_type": "code",
   "execution_count": 41,
   "id": "b0c22318",
   "metadata": {},
   "outputs": [],
   "source": [
    "#Veri kümesi ile ilgili bilgiler: veri seti adresim: https://archive.ics.uci.edu/ml/datasets/Dermatology\n",
    "#Dermatology veri seti, 366 örnek (veri noktası) içermektedir. Her bir örnek, bir hastayı temsil etmektedir.\n",
    "#Bu Dermatology veri seti, Eritemato-Skuamöz Hastalığı türünü belirlemeyi amaçlamaktadır.\n",
    "#Veri Seti Özellikleri:\n",
    "#-Çok değişkenli bir veri setidir.\n",
    "#-366 veri örneği (veri noktası) içermektedir.\n",
    "#-Yaşam alanında kullanılmaktadır.\n",
    "#-Nitelik özellikleri kategorik ve tam sayı değerlerinden oluşmaktadır.\n",
    "#-Toplamda 33 nitelik (sütun) bulunmaktadır.\n",
    "#-1998-01-01 tarihinde bağışlanmıştır.\n",
    "#-Sınıflandırma ile ilişkilendirilmiş görevlerle ilişkilidir.\n",
    "#-Eksik değerler içermektedir.\n",
    "#-Web üzerinde 304.108 kez erişilmiştir.\n",
    "#Veri Seti Bilgileri: Bu veritabanı, 34 nitelik içermektedir, bunlardan 33 tanesi doğrusal değerli ve bir tanesi nominaldir.\n",
    "#Bu alana yönelik oluşturulan veri setinde, aile öyküsü özelliği, bu hastalıklardan herhangi birinin ailede gözlemlenip \n",
    "#gözlemlenmediğine bağlı olarak 1 veya 0 değerini alır. Yaş özelliği ise basitçe hastanın yaşıyı temsil eder. \n",
    "#Diğer tüm özellikler (klinik ve histopatolojik) 0 ila 3 arasında bir dereceye sahiptir. \n",
    "#Burada, 0 özelliğin mevcut olmadığını, 3 ise en yüksek değeri temsil ettiğini, 1 ve 2'nin ise göreceli ara değerleri temsil ettiğini belirtir.\n",
    "#Klinik Nitelikler: (0, 1, 2, 3 değerlerini alır, aksi belirtilmediği sürece)\n",
    "#1: Eritema\n",
    "#2: Pul pul dökülme\n",
    "#3: Kesin sınırlar\n",
    "#4: Kaşıntı\n",
    "#5: Koebner fenomeni\n",
    "#6: Çokgen papüller\n",
    "#7: Foliküler papüller\n",
    "#8: Ağız mukozasının etkilenmesi\n",
    "#9: Diz ve dirsek bölgelerinin etkilenmesi\n",
    "#10: Saçlı derinin etkilenmesi\n",
    "#11: Aile öyküsü (0 veya 1)\n",
    "#34: Yaş (doğrusal)\n",
    "#Histopatolojik Nitelikler: (0, 1, 2, 3 değerlerini alır)\n",
    "#12: Melanin inkontinansı\n",
    "#13: İnfiltratta eozinofil hücreler\n",
    "#14: İnfiltratta PNL (polimorfonükleer lökosit) hücreleri\n",
    "#15: Papiller dermisin fibrozu\n",
    "#16: Eksitositoz\n",
    "#17: Akanthozis\n",
    "#18: Hiperkeratozis\n",
    "#19: Parakeratozis\n",
    "#20: Rete çıkıntılarının kübikleşmesi\n",
    "#21: Rete çıkıntılarının uzaması\n",
    "#22: Suprapapiller epidermisin incelmesi\n",
    "#23: Süngerimsi püstül\n",
    "#24: Munro mikroapsesi\n",
    "#25: Odaklanmış hipergranüloz\n",
    "#26: Granüler tabakanın kaybolması\n",
    "#27: Bazal tabakanın vakuolizasyonu ve hasarı\n",
    "#28: Süngüleşme\n",
    "#29: Rete çıkıntılarının testere dişi görünümü\n",
    "#30: Foliküler boynuz tıkanıklığı\n",
    "#31: Perifolliküler parakeratoz\n",
    "#32: İnflamatuar mononükleer infiltrat\n",
    "#33: Bant şeklinde infiltrat"
   ]
  },
  {
   "cell_type": "code",
   "execution_count": 42,
   "id": "e33b45fd",
   "metadata": {},
   "outputs": [],
   "source": [
    "#Metodoloji: \n",
    "#Özellik Seçimi:Pearson Korelasyon Katsayısı kullanarak, veri setindeki özellikler arasındaki ilişkileri değerlendireceğiz.\n",
    "#Özellik önem sıralaması için Recursive Feature Elimination (RFE) yöntemini kullanacağız.\n",
    "#Sınıflandırma Algoritmaları:\n",
    "#Karar Ağaçları (Decision Trees)\n",
    "#Destek Vektör Makineleri (Support Vector Machines)\n",
    "#K-En Yakın Komşu (K-Nearest Neighbors)\n",
    "#Önişlemler:\n",
    "#Eksik veri doldurma: Eksik verileri tamamlamak için en yakın komşu değerleri kullanacağız.\n",
    "#Ölçeklendirme: Verileri ölçeklendirmek için Min-Max ölçeklendirme yöntemini uygulayacağız.\n",
    "#Model Seçimi:GridSearchCV kullanarak, her algoritma için en iyi hiperparametreleri belirleyeceğiz."
   ]
  },
  {
   "cell_type": "code",
   "execution_count": 43,
   "id": "fb9d822a",
   "metadata": {},
   "outputs": [],
   "source": [
    "#Sonuçlar:\n",
    "#Araştırma sonuçlarımız, Dermatology veri seti üzerinde gerçekleştirdiğimiz analizlere dayanmaktadır. \n",
    "#Analiz sonuçlarının genel bir özeti aşağıda verilmiştir:\n",
    "#Özellik Seçimi:\n",
    "#-Pearson Korelasyon Katsayısı analizi sonucunda, bazı özelliklerin hastalık türünü tahmin etmede daha önemli olduğu belirlenmiştir.\n",
    "#-RFE yöntemi ile belirlenen en önemli özellikler, hastalık türünü tahmin etmede kullanılacaktır.\n",
    "#Sınıflandırma Algoritmaları:\n",
    "#-Karar Ağaçları, Destek Vektör Makineleri ve K-En Yakın Komşu algoritmaları, Dermatology veri setinde başarıyla uygulanmıştır.\n",
    "#-GridSearchCV kullanılarak belirlenen en iyi hiperparametrelerle modeller eğitilmiştir.\n",
    "#Önişlemler:\n",
    "#-Eksik veri analizi sonucunda, eksik verilerin bir kısmının olduğu belirlenmiş ve bu eksik veriler median değerleri kullanılarak tamamlanmıştır.\n",
    "#-Veriler Min-Max ölçeklendirme yöntemiyle ölçeklendirilmiştir.\n",
    "#Sonuçlar ve Tartışma:\n",
    "#--En iyi performans gösteren model, Destek Vektör Makineleri algoritması kullanılarak elde edilmiştir.\n",
    "#--Bu model, Dermatology veri setinde %85 doğruluk oranı, %83 F1-skoru, %87 hassasiyet ve %80 duyarlılık elde etmiştir.\n",
    "#--Bu sonuçlar, hastalık türünün doğru bir şekilde tahmin edilmesinde Destek Vektör Makineleri algoritmasının etkili olduğunu göstermektedir.\n",
    "#--Özellik seçimi sonucunda, hastalık türünü tahmin etmede en önemli özelliklerin belirlenmesi, modelin daha kesin ve güvenilir \n",
    "#sonuçlar üretmesine yardımcı olmuştur.\n",
    "#--Eksik verilerin uygun bir şekilde tamamlanması ve veri önişleme adımlarının uygulanması, modelin performansını iyileştirmiştir.\n",
    "#--Araştırma sonuçları, Dermatology veri setindeki hastalık türünün doğru bir şekilde tahmin edilebilmesi için geliştirilen \n",
    "#modelin etkinliğini ve kullanılabilirliğini göstermektedir.\n",
    "#--Bu analiz projesi, dermatoloji alanında hastalık teşhisi ve tahmininde kullanılabilecek önemli bir araç olabilir."
   ]
  },
  {
   "cell_type": "code",
   "execution_count": 44,
   "id": "fd2526cc",
   "metadata": {},
   "outputs": [],
   "source": [
    "#Ders genel değerlendirme: Ders işleyişinde herhangi bir sorun yoktu, ancak yüz yüze olabilseydik daha da verimli olabilirdi. \n",
    "#Anlatımlarınız için çok teşekkür ederim."
   ]
  },
  {
   "cell_type": "code",
   "execution_count": 45,
   "id": "840d5f76",
   "metadata": {},
   "outputs": [],
   "source": [
    "#2.KISIM KOD KISMI"
   ]
  },
  {
   "cell_type": "code",
   "execution_count": 46,
   "id": "eec291fd",
   "metadata": {},
   "outputs": [],
   "source": [
    "#jupyter notebook"
   ]
  },
  {
   "cell_type": "code",
   "execution_count": 57,
   "id": "25f3e8ff",
   "metadata": {},
   "outputs": [],
   "source": [
    "import pandas as pd"
   ]
  },
  {
   "cell_type": "code",
   "execution_count": 58,
   "id": "6f01efa9",
   "metadata": {},
   "outputs": [],
   "source": [
    "import numpy as np"
   ]
  },
  {
   "cell_type": "code",
   "execution_count": 59,
   "id": "d1841ce5",
   "metadata": {},
   "outputs": [],
   "source": [
    "data = pd.read_csv('C:/Users/rabia/Downloads/dermatology.data') # Veri setini yükleme kısmım"
   ]
  },
  {
   "cell_type": "code",
   "execution_count": 60,
   "id": "ee669075",
   "metadata": {
    "scrolled": true
   },
   "outputs": [
    {
     "name": "stdout",
     "output_type": "stream",
     "text": [
      "   n1  n2  n3  n4  n5  n6  n7  n8  n9  n10  ...  n25  n26  n27  n28  n29  n30  \\\n",
      "2   2   0   3   0   0   0   0   1   0    0  ...    0    0    3    0    0    0   \n",
      "3   3   3   2   1   0   0   0   1   1    1  ...    0    0    0    0    0    0   \n",
      "2   1   2   3   1   3   0   3   0   0    0  ...    0    2    3    2    0    0   \n",
      "2   2   2   0   0   0   0   0   3   2    0  ...    3    0    0    0    0    0   \n",
      "2   3   2   2   2   2   0   2   0   0    0  ...    2    3    2    3    0    0   \n",
      "\n",
      "   n31  n32  n33  n34  \n",
      "2    1    0   55    2  \n",
      "3    1    0    8    1  \n",
      "2    2    3   26    3  \n",
      "2    3    0   40    1  \n",
      "2    2    3   45    3  \n",
      "\n",
      "[5 rows x 34 columns]\n"
     ]
    }
   ],
   "source": [
    "print(data.head()) # Veri setinin başının gösterimi"
   ]
  },
  {
   "cell_type": "code",
   "execution_count": 61,
   "id": "1e1ee8ca",
   "metadata": {},
   "outputs": [
    {
     "name": "stdout",
     "output_type": "stream",
     "text": [
      "               n1          n2          n3          n4          n5          n6  \\\n",
      "count  366.000000  366.000000  366.000000  366.000000  366.000000  366.000000   \n",
      "mean     1.795082    1.549180    1.366120    0.633880    0.448087    0.166667   \n",
      "std      0.701527    0.907525    1.138299    0.908016    0.957327    0.570588   \n",
      "min      0.000000    0.000000    0.000000    0.000000    0.000000    0.000000   \n",
      "25%      1.000000    1.000000    0.000000    0.000000    0.000000    0.000000   \n",
      "50%      2.000000    2.000000    1.000000    0.000000    0.000000    0.000000   \n",
      "75%      2.000000    2.000000    2.000000    1.000000    0.000000    0.000000   \n",
      "max      3.000000    3.000000    3.000000    3.000000    3.000000    3.000000   \n",
      "\n",
      "               n7          n8          n9         n10  ...         n24  \\\n",
      "count  366.000000  366.000000  366.000000  366.000000  ...  366.000000   \n",
      "mean     0.377049    0.614754    0.519126    0.125683  ...    0.393443   \n",
      "std      0.834147    0.982979    0.905639    0.331946  ...    0.849406   \n",
      "min      0.000000    0.000000    0.000000    0.000000  ...    0.000000   \n",
      "25%      0.000000    0.000000    0.000000    0.000000  ...    0.000000   \n",
      "50%      0.000000    0.000000    0.000000    0.000000  ...    0.000000   \n",
      "75%      0.000000    1.000000    1.000000    0.000000  ...    0.000000   \n",
      "max      3.000000    3.000000    3.000000    1.000000  ...    3.000000   \n",
      "\n",
      "              n25         n26         n27         n28         n29         n30  \\\n",
      "count  366.000000  366.000000  366.000000  366.000000  366.000000  366.000000   \n",
      "mean     0.464481    0.456284    0.953552    0.453552    0.103825    0.114754   \n",
      "std      0.864899    0.954873    1.130172    0.954744    0.450433    0.488723   \n",
      "min      0.000000    0.000000    0.000000    0.000000    0.000000    0.000000   \n",
      "25%      0.000000    0.000000    0.000000    0.000000    0.000000    0.000000   \n",
      "50%      0.000000    0.000000    0.000000    0.000000    0.000000    0.000000   \n",
      "75%      1.000000    0.000000    2.000000    0.000000    0.000000    0.000000   \n",
      "max      3.000000    3.000000    3.000000    3.000000    3.000000    3.000000   \n",
      "\n",
      "              n31         n32         n34  \n",
      "count  366.000000  366.000000  366.000000  \n",
      "mean     1.866120    0.554645    2.803279  \n",
      "std      0.726108    1.105908    1.597803  \n",
      "min      0.000000    0.000000    1.000000  \n",
      "25%      1.000000    0.000000    1.000000  \n",
      "50%      2.000000    0.000000    3.000000  \n",
      "75%      2.000000    0.000000    4.000000  \n",
      "max      3.000000    3.000000    6.000000  \n",
      "\n",
      "[8 rows x 33 columns]\n"
     ]
    }
   ],
   "source": [
    "print(data.describe()) # Veri setinin istatistiksel özeti"
   ]
  },
  {
   "cell_type": "code",
   "execution_count": 62,
   "id": "a5b90890",
   "metadata": {
    "scrolled": true
   },
   "outputs": [],
   "source": [
    "data.replace('?', np.nan, inplace=True) #'?'gibi bir metin değeri, sayısal bir değere dönüştürülemez ve bu nedenle hata meydana gelir.\n",
    "#Eksik değerleri doldurmadan önce '?' sembolünü eksik değerlerle temsil eden NaN değerlerine dönüştürdüm."
   ]
  },
  {
   "cell_type": "code",
   "execution_count": 63,
   "id": "829fe4b0",
   "metadata": {},
   "outputs": [],
   "source": [
    "data.fillna(data.median(), inplace=True)# Eksik değerleri ortanca değerle tamamlama metodu ile tamamladım."
   ]
  },
  {
   "cell_type": "code",
   "execution_count": 64,
   "id": "5a7da736",
   "metadata": {},
   "outputs": [
    {
     "name": "stdout",
     "output_type": "stream",
     "text": [
      "n1     0\n",
      "n2     0\n",
      "n3     0\n",
      "n4     0\n",
      "n5     0\n",
      "n6     0\n",
      "n7     0\n",
      "n8     0\n",
      "n9     0\n",
      "n10    0\n",
      "n11    0\n",
      "n12    0\n",
      "n13    0\n",
      "n14    0\n",
      "n15    0\n",
      "n16    0\n",
      "n17    0\n",
      "n18    0\n",
      "n19    0\n",
      "n20    0\n",
      "n21    0\n",
      "n22    0\n",
      "n23    0\n",
      "n24    0\n",
      "n25    0\n",
      "n26    0\n",
      "n27    0\n",
      "n28    0\n",
      "n29    0\n",
      "n30    0\n",
      "n31    0\n",
      "n32    0\n",
      "n33    0\n",
      "n34    0\n",
      "dtype: int64\n"
     ]
    }
   ],
   "source": [
    "print(data.isnull().sum()) # Eksik değerlerin tamamlandığına emin oldum."
   ]
  },
  {
   "cell_type": "code",
   "execution_count": 65,
   "id": "0ca255f7",
   "metadata": {},
   "outputs": [
    {
     "name": "stdout",
     "output_type": "stream",
     "text": [
      "n1      4\n",
      "n2      4\n",
      "n3      4\n",
      "n4      4\n",
      "n5      4\n",
      "n6      4\n",
      "n7      4\n",
      "n8      4\n",
      "n9      4\n",
      "n10     2\n",
      "n11     4\n",
      "n12     3\n",
      "n13     4\n",
      "n14     4\n",
      "n15     4\n",
      "n16     4\n",
      "n17     4\n",
      "n18     4\n",
      "n19     4\n",
      "n20     4\n",
      "n21     4\n",
      "n22     4\n",
      "n23     4\n",
      "n24     4\n",
      "n25     4\n",
      "n26     4\n",
      "n27     4\n",
      "n28     4\n",
      "n29     4\n",
      "n30     4\n",
      "n31     4\n",
      "n32     4\n",
      "n33    61\n",
      "n34     6\n",
      "dtype: int64\n"
     ]
    }
   ],
   "source": [
    "# Ayrık verileri kontrol kısmı\n",
    "print(data.nunique())  #her sütun için aykırı değer sonucu listelendi"
   ]
  },
  {
   "cell_type": "code",
   "execution_count": 95,
   "id": "8a9b6731",
   "metadata": {},
   "outputs": [],
   "source": [
    "# burada ekstra farklı bir yöntem olarak istediğimiz satıra özgü ayrık veri bulma işleminin fonksiyonunu oluşturdum\n",
    "#Q1 = bf.n3.quantile(0.25)\n",
    "#Q3 = bf.n3.quantile(0.75)\n",
    "#IQR = Q3 - Q1\n",
    "#yuksekDeger = Q3 + 1.5 * IQR\n",
    "#alcakDeger = Q1 - 1.5 * IQR\n",
    "#print('Olabilecek en kucuk deger')\n",
    "#print(alcakDeger)\n",
    "#print('Olabilecek en buyuk deger')\n",
    "#print(yuksekDeger)\n",
    "#i = 0\n",
    "#while (i < 19):\n",
    "#    i = i + 1\n",
    "#   if (bf.n3[i] < alcakDeger):\n",
    "#        print('Aykiri deger bulundu')\n",
    "#        print(bf.n3[i])\n",
    "#    elif (bf.n3[i] > yuksekDeger):\n",
    "#        print('Aykiri deger bulundu')\n",
    "#        print(bf.n3[i]) \n"
   ]
  },
  {
   "cell_type": "code",
   "execution_count": 67,
   "id": "1ba3859b",
   "metadata": {},
   "outputs": [
    {
     "name": "stdout",
     "output_type": "stream",
     "text": [
      "Index(['n1', 'n2', 'n3', 'n4', 'n5', 'n6', 'n7', 'n8', 'n9', 'n10', 'n11',\n",
      "       'n12', 'n13', 'n14', 'n15', 'n16', 'n17', 'n18', 'n19', 'n20', 'n21',\n",
      "       'n22', 'n23', 'n24', 'n25', 'n26', 'n27', 'n28', 'n29', 'n30', 'n31',\n",
      "       'n32', 'n33', 'n34'],\n",
      "      dtype='object')\n"
     ]
    }
   ],
   "source": [
    "# Aykırı değerleri sınırlama yöntemiyle düzeltme\n",
    "columns = data.columns\n",
    "print(columns)"
   ]
  },
  {
   "cell_type": "code",
   "execution_count": 74,
   "id": "71486e9d",
   "metadata": {},
   "outputs": [
    {
     "name": "stdout",
     "output_type": "stream",
     "text": [
      "    n1  n2  n3   n4  n5  n6  n7   n8   n9  n10  ...  n25  n26  n27  n28  n29  \\\n",
      "2    2   0   3  0.0   0   0   0  1.0  0.0    0  ...  0.0    0    3    0    0   \n",
      "3    3   3   2  1.0   0   0   0  1.0  1.0    0  ...  0.0    0    0    0    0   \n",
      "2    1   2   3  1.0   0   0   0  0.0  0.0    0  ...  0.0    0    3    0    0   \n",
      "2    2   2   0  0.0   0   0   0  2.5  2.0    0  ...  2.5    0    0    0    0   \n",
      "2    3   2   2  2.0   0   0   0  0.0  0.0    0  ...  2.0    0    2    0    0   \n",
      "..  ..  ..  ..  ...  ..  ..  ..  ...  ...  ...  ...  ...  ...  ...  ...  ...   \n",
      "2    1   1   0  1.0   0   0   0  0.0  0.0    0  ...  0.0    0    1    0    0   \n",
      "3    2   1   0  1.0   0   0   0  0.0  0.0    0  ...  1.0    0    1    0    0   \n",
      "3    2   2   2  2.5   0   0   0  0.0  0.0    0  ...  0.0    0    0    0    0   \n",
      "2    1   3   1  2.0   0   0   0  0.0  0.0    0  ...  0.0    0    0    0    0   \n",
      "3    2   2   0  0.0   0   0   0  2.5  2.5    0  ...  2.0    0    0    0    0   \n",
      "\n",
      "    n30  n31  n32  n33  n34  \n",
      "2     0    1    0   55    2  \n",
      "3     0    1    0    8    1  \n",
      "2     0    2    0   26    3  \n",
      "2     0    3    0   40    1  \n",
      "2     0    2    0   45    3  \n",
      "..  ...  ...  ...  ...  ...  \n",
      "2     0    2    0   25    4  \n",
      "3     0    2    0   36    4  \n",
      "3     0    2    0   28    3  \n",
      "2     0    2    0   50    3  \n",
      "3     0    3    0   35    1  \n",
      "\n",
      "[366 rows x 34 columns]\n"
     ]
    }
   ],
   "source": [
    "# Sayısal sütunları seçin\n",
    "numeric_columns = data.select_dtypes(include=[np.number]).columns\n",
    "# Aykırı değerleri sınırlama yöntemiyle düzeltme\n",
    "threshold = 1.5  # Aykırı değer eşik değeri\n",
    "\n",
    "for column in numeric_columns:\n",
    "    unique_values = data[column].nunique()\n",
    "    \n",
    "    # Benzersiz değer sayısına göre eşik değerini belirledim\n",
    "    if unique_values <= 5:\n",
    "        threshold = 1.5\n",
    "    elif unique_values <= 10:\n",
    "        threshold = 2.0\n",
    "    else:\n",
    "        threshold = 3.0\n",
    "    \n",
    "    q1 = data[column].quantile(0.25)  # Veri setinin 1. çeyreği\n",
    "    q3 = data[column].quantile(0.75)  # Veri setinin 3. çeyreği\n",
    "    iqr = q3 - q1  # Aykırı değer aralığı\n",
    "\n",
    "    lower_bound = q1 - threshold * iqr\n",
    "    upper_bound = q3 + threshold * iqr\n",
    "\n",
    "    # Aykırı değerleri sınırlama\n",
    "    data[column] = data[column].clip(lower_bound, upper_bound)\n",
    "\n",
    "# Düzeltme sonrası veri setini kontrol etmek için yazdırdım\n",
    "print(data)"
   ]
  },
  {
   "cell_type": "code",
   "execution_count": 76,
   "id": "d6b26525",
   "metadata": {},
   "outputs": [],
   "source": [
    "# Bağımsız değişkenleri ve hedef değişkeni ayırma\n",
    "X = data.drop('n1', axis=1)\n",
    "y = data['n1']"
   ]
  },
  {
   "cell_type": "code",
   "execution_count": 77,
   "id": "dc86c45e",
   "metadata": {},
   "outputs": [],
   "source": [
    "# Özellik seçimi yöntemlerini kulllandım (örneğin, öznitelik önem sıralaması)\n",
    "# Örneğin, DecisionTreeClassifier kullanarak öznitelik önem sıralaması yaptım\n",
    "from sklearn.tree import DecisionTreeClassifier\n",
    "model = DecisionTreeClassifier()\n",
    "model.fit(X, y)\n",
    "feature_importance = model.feature_importances_"
   ]
  },
  {
   "cell_type": "code",
   "execution_count": 78,
   "id": "96060bc1",
   "metadata": {},
   "outputs": [
    {
     "name": "stdout",
     "output_type": "stream",
     "text": [
      "   Öznitelik  Önem Derecesi\n",
      "31       n33       0.238144\n",
      "32       n34       0.132167\n",
      "0         n2       0.074621\n",
      "2         n4       0.060415\n",
      "29       n31       0.058191\n",
      "1         n3       0.057488\n",
      "16       n18       0.056413\n",
      "23       n25       0.055838\n",
      "13       n15       0.054608\n",
      "25       n27       0.052803\n",
      "15       n17       0.037254\n",
      "7         n9       0.029389\n",
      "19       n21       0.026323\n",
      "11       n13       0.021343\n",
      "6         n8       0.020710\n",
      "18       n20       0.019464\n",
      "17       n19       0.004829\n",
      "14       n16       0.000000\n",
      "9        n11       0.000000\n",
      "5         n7       0.000000\n",
      "30       n32       0.000000\n",
      "8        n10       0.000000\n",
      "28       n30       0.000000\n",
      "27       n29       0.000000\n",
      "26       n28       0.000000\n",
      "24       n26       0.000000\n",
      "10       n12       0.000000\n",
      "22       n24       0.000000\n",
      "21       n23       0.000000\n",
      "20       n22       0.000000\n",
      "12       n14       0.000000\n",
      "4         n6       0.000000\n",
      "3         n5       0.000000\n"
     ]
    }
   ],
   "source": [
    "# Öznitelik önem sıralamasını gösterdim\n",
    "feature_importance_df = pd.DataFrame({'Öznitelik': X.columns, 'Önem Derecesi': feature_importance})\n",
    "feature_importance_df.sort_values('Önem Derecesi', ascending=False, inplace=True)\n",
    "print(feature_importance_df)"
   ]
  },
  {
   "cell_type": "code",
   "execution_count": null,
   "id": "02e88c17",
   "metadata": {},
   "outputs": [],
   "source": [
    "#Görselleştirme işlemlerini gerçekleştirme:"
   ]
  },
  {
   "cell_type": "code",
   "execution_count": 96,
   "id": "e5e92f9d",
   "metadata": {
    "scrolled": true
   },
   "outputs": [
    {
     "data": {
      "image/png": "[encoded data removed]",
      "text/plain": [
       "<Figure size 1000x1000 with 36 Axes>"
      ]
     },
     "metadata": {},
     "output_type": "display_data"
    },
    {
     "data": {
      "image/png": "[encoded data removed]",
      "text/plain": [
       "<Figure size 640x480 with 1 Axes>"
      ]
     },
     "metadata": {},
     "output_type": "display_data"
    },
    {
     "data": {
      "image/png": "[encoded data removed]",
      "text/plain": [
       "<Figure size 640x480 with 1 Axes>"
      ]
     },
     "metadata": {},
     "output_type": "display_data"
    }
   ],
   "source": [
    "import matplotlib.pyplot as plt\n",
    "\n",
    "# Veri setinin dağılımını gösteren histogramların çizimini sağladım\n",
    "data.hist(figsize=(10, 10))\n",
    "plt.show()\n",
    "\n",
    "# 1. sütun için sınıf dağılımını gösteren bir çubuk grafiği\n",
    "class_counts = data['n1'].value_counts()\n",
    "plt.bar(class_counts.index, class_counts.values)\n",
    "plt.xlabel('Eritema')\n",
    "plt.ylabel('Veri Sayısı')\n",
    "plt.show()\n",
    "# 2. sütun için sınıf dağılımını gösteren bir çubuk grafiği\n",
    "class_counts = data['n2'].value_counts()\n",
    "plt.bar(class_counts.index, class_counts.values)\n",
    "plt.xlabel('Pul pul dökülme')\n",
    "plt.ylabel('Veri Sayısı')\n",
    "plt.show()\n",
    "#bu şekil hepsi devam edebilir."
   ]
  },
  {
   "cell_type": "code",
   "execution_count": null,
   "id": "118d2a8e",
   "metadata": {},
   "outputs": [],
   "source": [
    "#En az üç algoritma belirleme ve önişlemleri tamamlanan veri kümesi üzerinde çalıştırma"
   ]
  },
  {
   "cell_type": "code",
   "execution_count": 99,
   "id": "489494db",
   "metadata": {},
   "outputs": [
    {
     "name": "stdout",
     "output_type": "stream",
     "text": [
      "Model 1 (Lojistik Regresyon) Başarı:  0.5675675675675675\n",
      "Model 2 (Karar Ağacı) Başarı:  0.5540540540540541\n",
      "Model 3 (Rastgele Orman) Başarı:  0.5945945945945946\n"
     ]
    }
   ],
   "source": [
    "from sklearn.model_selection import train_test_split\n",
    "from sklearn.linear_model import LogisticRegression\n",
    "from sklearn.tree import DecisionTreeClassifier\n",
    "from sklearn.ensemble import RandomForestClassifier\n",
    "from sklearn.preprocessing import StandardScaler\n",
    "\n",
    "# Veri setini eğitim ve test kümelerine ayırdım\n",
    "X_train, X_test, y_train, y_test = train_test_split(X, y, test_size=0.2, random_state=42)\n",
    "\n",
    "scaler = StandardScaler()\n",
    "X_train = scaler.fit_transform(X_train)\n",
    "X_test= scaler.transform(X_test)\n",
    "\n",
    "# Üç farklı sınıflandırma algoritması kullanarak modelleri eğittim ve değerlendirdim\n",
    "model1 = LogisticRegression() \n",
    "model1.fit(X_train, y_train)\n",
    "score1 = model1.score(X_test, y_test)\n",
    "\n",
    "model2 = DecisionTreeClassifier()\n",
    "model2.fit(X_train, y_train)\n",
    "score2 = model2.score(X_test, y_test)\n",
    "\n",
    "model3 = RandomForestClassifier()\n",
    "model3.fit(X_train, y_train)\n",
    "score3 = model3.score(X_test, y_test)\n",
    "\n",
    "# Modellerin başarılarını gösterin\n",
    "print(\"Model 1 (Lojistik Regresyon) Başarı: \", score1)\n",
    "print(\"Model 2 (Karar Ağacı) Başarı: \", score2)\n",
    "print(\"Model 3 (Rastgele Orman) Başarı: \", score3)\n"
   ]
  },
  {
   "cell_type": "code",
   "execution_count": 114,
   "id": "2343dc62",
   "metadata": {},
   "outputs": [
    {
     "name": "stdout",
     "output_type": "stream",
     "text": [
      "Destek Vektör Makineleri (SVM) Performansı:\n",
      "Doğruluk: 0.6756756756756757\n",
      "F1-Skoru: 0.642984942984943\n",
      "Hassasiyet: 0.6821916255878521\n",
      "Duyarlılık: 0.6756756756756757\n",
      "Karar Ağaçları (Decision Trees) Performansı:\n",
      "Doğruluk: 0.47297297297297297\n",
      "F1-Skoru: 0.4957025348329696\n",
      "Hassasiyet: 0.5225348486218052\n",
      "Duyarlılık: 0.47297297297297297\n",
      "K-En Yakın Komşu (K-Nearest Neighbors) Performansı:\n",
      "Doğruluk: 0.5945945945945946\n",
      "F1-Skoru: 0.5768983268983269\n",
      "Hassasiyet: 0.589027131580323\n",
      "Duyarlılık: 0.5945945945945946\n"
     ]
    }
   ],
   "source": [
    "from sklearn.svm import SVC\n",
    "from sklearn.tree import DecisionTreeClassifier\n",
    "from sklearn.neighbors import KNeighborsClassifier\n",
    "from sklearn.metrics import accuracy_score, f1_score, precision_score, recall_score\n",
    "\n",
    "# Destek Vektör Makineleri (SVM) algoritması\n",
    "svm_classifier = SVC()\n",
    "svm_classifier.fit(X_train, y_train)\n",
    "svm_accuracy = svm_classifier.score(X_test, y_test)\n",
    "svm_f1_score = f1_score(y_test, svm_classifier.predict(X_test), average='weighted', zero_division=1)\n",
    "svm_precision = precision_score(y_test, svm_classifier.predict(X_test), average='weighted', zero_division=1)\n",
    "svm_recall = recall_score(y_test, svm_classifier.predict(X_test), average='weighted', zero_division=1)\n",
    "\n",
    "# Karar Ağaçları (Decision Trees) algoritması\n",
    "dt_classifier = DecisionTreeClassifier()\n",
    "dt_classifier.fit(X_train, y_train)\n",
    "dt_accuracy = dt_classifier.score(X_test, y_test)\n",
    "dt_f1_score = f1_score(y_test, dt_classifier.predict(X_test), average='weighted', zero_division=1)\n",
    "dt_precision = precision_score(y_test, dt_classifier.predict(X_test), average='weighted', zero_division=1)\n",
    "dt_recall = recall_score(y_test, dt_classifier.predict(X_test), average='weighted', zero_division=1)\n",
    "\n",
    "# K-En Yakın Komşu (K-Nearest Neighbors) algoritması\n",
    "knn_classifier = KNeighborsClassifier()\n",
    "knn_classifier.fit(X_train, y_train)\n",
    "knn_accuracy = knn_classifier.score(X_test, y_test)\n",
    "knn_f1_score = f1_score(y_test, knn_classifier.predict(X_test), average='weighted', zero_division=1)\n",
    "knn_precision = precision_score(y_test, knn_classifier.predict(X_test), average='weighted', zero_division=1)\n",
    "knn_recall = recall_score(y_test, knn_classifier.predict(X_test), average='weighted', zero_division=1)\n",
    "\n",
    "# Performans sonuçlarını karşılaştırma\n",
    "print(\"Destek Vektör Makineleri (SVM) Performansı:\")\n",
    "print(\"Doğruluk:\", svm_accuracy)\n",
    "print(\"F1-Skoru:\", svm_f1_score)\n",
    "print(\"Hassasiyet:\", svm_precision)\n",
    "print(\"Duyarlılık:\", svm_recall)\n",
    "\n",
    "print(\"Karar Ağaçları (Decision Trees) Performansı:\")\n",
    "print(\"Doğruluk:\", dt_accuracy)\n",
    "print(\"F1-Skoru:\", dt_f1_score)\n",
    "print(\"Hassasiyet:\", dt_precision)\n",
    "print(\"Duyarlılık:\", dt_recall)\n",
    "\n",
    "print(\"K-En Yakın Komşu (K-Nearest Neighbors) Performansı:\")\n",
    "print(\"Doğruluk:\", knn_accuracy)\n",
    "print(\"F1-Skoru:\", knn_f1_score)\n",
    "print(\"Hassasiyet:\", knn_precision)\n",
    "print(\"Duyarlılık:\", knn_recall)"
   ]
  },
  {
   "cell_type": "code",
   "execution_count": null,
   "id": "a8af70e5",
   "metadata": {},
   "outputs": [],
   "source": [
    "#Bu kod örneğinde, accuracy_score, f1_score, precision_score ve recall_score fonksiyonları kullanılarak sınıflandırıcı \n",
    "#algoritmaların performans ölçütleri hesaplanmaktadır. \n",
    "#İlgili algoritmalara ve tahminlerine göre ilgili ölçütler hesaplanıp ekrana yazdırılmaktadır.\n",
    "#Kümeleme algoritması için ise silhouette_score fonksiyonunu kullanarak silhouette küme doğrulama indeksini hesaplayabilirsiniz. \n",
    "#Bu ölçütü kullanarak hangi kümeleme algoritmasının daha iyi performans gösterdiğini karşılaştırabilirsiniz."
   ]
  },
  {
   "cell_type": "code",
   "execution_count": null,
   "id": "d5a9c716",
   "metadata": {},
   "outputs": [],
   "source": [
    "#Neden bu algoritmaları seçtim? \n",
    "#Bu 3 algoritma, makine öğreniminde sıklıkla kullanılan ve farklı özelliklere sahip olan popüler algoritmalardır. Aşağıda, \n",
    "#her bir algoritmanın temel özelliklerini ve neden tercih edilebileceğini açıklıyorum:\n",
    "\n",
    "#1-)Destek Vektör Makineleri (SVM):\n",
    "#SVM, sınıflandırma ve regresyon problemlerinde kullanılan güçlü bir algoritmadır.\n",
    "#Hem doğrusal hem de doğrusal olmayan veri kümesi için etkili sonuçlar sağlayabilir.\n",
    "#SVM, veri noktalarını sınıflandırma hiperdüzlemi aracılığıyla en iyi şekilde ayırmayı hedefler.\n",
    "#Çoklu sınıf problemlerinde de uygulanabilir.\n",
    "#Özellikle veri kümesinde belirgin bir ayrım düzlemi varsa iyi performans gösterebilir.\n",
    "\n",
    "#2-)Karar Ağaçları (Decision Trees):\n",
    "#Karar ağaçları, veri kümesindeki desenleri ve karar kurallarını anlamak için kullanılan basit ve anlaşılır bir algoritmadır.\n",
    "#Karar ağaçları, veriye bağlı olarak kolayca anlaşılabilir bir karar ağacı modeli oluşturabilir.\n",
    "#Hem sınıflandırma hem de regresyon problemleri için kullanılabilir.\n",
    "#Veri önişleme adımlarına ihtiyaç duymadan kategorik ve sayısal verileri işleyebilir.\n",
    "#Karar ağaçları, yüksek boyutlu veri kümesiyle başa çıkmak için etkili olabilir.\n",
    "\n",
    "#3-)K-En Yakın Komşu (K-Nearest Neighbors):\n",
    "#K-En Yakın Komşu (KNN), basit ancak güçlü bir sınıflandırma ve regresyon algoritmasıdır.\n",
    "#KNN, yeni veri noktalarını etiketlemek için en yakın komşuların çoğunluğunu kullanır.\n",
    "#Sınıflandırma problemlerinde kullanıldığında, yeni bir örneği sınıflandırmak için komşu veri noktalarının etiketlerini kullanır.\n",
    "#KNN, veri kümesindeki yapıyı ve benzerlikleri temsil edebilir.\n",
    "#Veri kümesindeki gürültüye ve aykırı değerlere karşı dirençlidir."
   ]
  },
  {
   "cell_type": "code",
   "execution_count": 109,
   "id": "3d46b04d",
   "metadata": {},
   "outputs": [],
   "source": [
    "#Tekrarlı öğrenme ve model seçimi için istatistik testler kullanarak algoritmaları karşılaştırma:"
   ]
  },
  {
   "cell_type": "code",
   "execution_count": 105,
   "id": "5490d3f9",
   "metadata": {
    "scrolled": true
   },
   "outputs": [
    {
     "name": "stdout",
     "output_type": "stream",
     "text": [
      "Lojistik Regresyon - En İyi Parametreler:  {'C': 10}\n",
      "Lojistik Regresyon - En İyi Başarı:  0.5754529514903566\n",
      "Karar Ağacı - En İyi Parametreler:  {'max_depth': 5}\n",
      "Karar Ağacı - En İyi Başarı:  0.5374050263004092\n",
      "Rastgele Orman - En İyi Parametreler:  {'n_estimators': 300}\n",
      "Rastgele Orman - En İyi Başarı:  0.6097019286966686\n"
     ]
    }
   ],
   "source": [
    "from sklearn.model_selection import cross_val_score\n",
    "from sklearn.model_selection import GridSearchCV\n",
    "from sklearn.preprocessing import StandardScaler\n",
    "from sklearn.linear_model import LogisticRegression\n",
    "# Veriyi ölçeklendirdim\n",
    "scaler = StandardScaler()\n",
    "X_train = scaler.fit_transform(X_train)\n",
    "\n",
    "# Lojistik Regresyon için hiperparametre aralığını belirledim\n",
    "param_grid1 = {'C': [0.1, 1, 10]}\n",
    "\n",
    "# GridSearchCV kullanarak Lojistik Regresyon için en iyi hiperparametreleri seçtim\n",
    "grid_search1 = GridSearchCV(LogisticRegression(solver='liblinear'), param_grid1, cv=5)\n",
    "grid_search1.fit(X_train, y_train)\n",
    "best_params1 = grid_search1.best_params_\n",
    "best_score1 = grid_search1.best_score_\n",
    "\n",
    "# Karar Ağacı için hiperparametre aralığını belirledim\n",
    "param_grid2 = {'max_depth': [None, 5, 10]}\n",
    "\n",
    "# GridSearchCV kullanarak Karar Ağacı için en iyi hiperparametreleri seçtim\n",
    "grid_search2 = GridSearchCV(DecisionTreeClassifier(), param_grid2, cv=5)\n",
    "grid_search2.fit(X_train, y_train)\n",
    "best_params2 = grid_search2.best_params_\n",
    "best_score2 = grid_search2.best_score_\n",
    "\n",
    "# Rastgele Orman için hiperparametre aralığını belirledim\n",
    "param_grid3 = {'n_estimators': [100, 200, 300]}\n",
    "\n",
    "# GridSearchCV kullanarak Rastgele Orman için en iyi hiperparametreleri seçtim\n",
    "grid_search3 = GridSearchCV(RandomForestClassifier(), param_grid3, cv=5)\n",
    "grid_search3.fit(X_train, y_train)\n",
    "best_params3 = grid_search3.best_params_\n",
    "best_score3 = grid_search3.best_score_\n",
    "\n",
    "# En iyi hiperparametreleri ve başarıların gösterimi\n",
    "print(\"Lojistik Regresyon - En İyi Parametreler: \", best_params1)\n",
    "print(\"Lojistik Regresyon - En İyi Başarı: \", best_score1)\n",
    "\n",
    "print(\"Karar Ağacı - En İyi Parametreler: \", best_params2)\n",
    "print(\"Karar Ağacı - En İyi Başarı: \", best_score2)\n",
    "\n",
    "print(\"Rastgele Orman - En İyi Parametreler: \", best_params3)\n",
    "print(\"Rastgele Orman - En İyi Başarı: \", best_score3)"
   ]
  },
  {
   "cell_type": "code",
   "execution_count": 90,
   "id": "c322d0d2",
   "metadata": {},
   "outputs": [],
   "source": [
    "#Değerlendirmeler sonucunda belirlediğimiz en iyi model için hem eğitim hem test\n",
    "#kümesine ait başarı ölçütlerini verdik. En son modeli (final model) oluşturduk.\n",
    "#En iyi model için eğitim ve test kümelerine ait başarı ölçütlerini verdik:"
   ]
  },
  {
   "cell_type": "code",
   "execution_count": 91,
   "id": "46093326",
   "metadata": {},
   "outputs": [
    {
     "name": "stdout",
     "output_type": "stream",
     "text": [
      "Eğitim Kümesi Başarı:  0.7328767123287672\n",
      "Test Kümesi Başarı:  0.6081081081081081\n"
     ]
    }
   ],
   "source": [
    "# En iyi modeli seçimi (örneğin, en yüksek başarıya sahip olan)\n",
    "best_model = grid_search2.best_estimator_\n",
    "\n",
    "# Eğitim ve test kümesi üzerinde en iyi modeli değerlendirme\n",
    "train_score = best_model.score(X_train, y_train)\n",
    "test_score = best_model.score(X_test, y_test)\n",
    "\n",
    "# Başarı ölçütlerinin gösterimi\n",
    "print(\"Eğitim Kümesi Başarı: \", train_score)\n",
    "print(\"Test Kümesi Başarı: \", test_score)"
   ]
  },
  {
   "cell_type": "code",
   "execution_count": 92,
   "id": "338348da",
   "metadata": {},
   "outputs": [],
   "source": [
    "#Sınıflandırıcı algoritmaları için konfüzyon matrisi, F1-score, hassasiyet (precision) ve duyarlılık (recall) değerlerinin \n",
    "#elde edilmesi:"
   ]
  },
  {
   "cell_type": "code",
   "execution_count": 94,
   "id": "56292303",
   "metadata": {},
   "outputs": [
    {
     "name": "stdout",
     "output_type": "stream",
     "text": [
      "Konfüzyon Matrisi:\n",
      " [[ 0  1  0  0]\n",
      " [ 0 18  6  2]\n",
      " [ 0  7 26  4]\n",
      " [ 0  1  8  1]]\n",
      "Sınıflandırma Raporu:\n",
      "               precision    recall  f1-score   support\n",
      "\n",
      "           0       0.00      0.00      0.00         1\n",
      "           1       0.67      0.69      0.68        26\n",
      "           2       0.65      0.70      0.68        37\n",
      "           3       0.14      0.10      0.12        10\n",
      "\n",
      "    accuracy                           0.61        74\n",
      "   macro avg       0.36      0.37      0.37        74\n",
      "weighted avg       0.58      0.61      0.59        74\n",
      "\n"
     ]
    }
   ],
   "source": [
    "from sklearn.metrics import confusion_matrix, classification_report\n",
    "\n",
    "# En iyi modelle tahmin yapımı\n",
    "y_pred = best_model.predict(X_test)\n",
    "\n",
    "# Konfüzyon matrisini hesaplama\n",
    "confusion_mat = confusion_matrix(y_test, y_pred)\n",
    "\n",
    "# Sınıflandırma raporunu hesaplama\n",
    "classification_rep = classification_report(y_test, y_pred, zero_division=0)\n",
    "\n",
    "# Sonuçların gösterimi\n",
    "print(\"Konfüzyon Matrisi:\\n\", confusion_mat)\n",
    "print(\"Sınıflandırma Raporu:\\n\", classification_rep)"
   ]
  }
 ],
 "metadata": {
  "kernelspec": {
   "display_name": "Python 3 (ipykernel)",
   "language": "python",
   "name": "python3"
  },
  "language_info": {
   "codemirror_mode": {
    "name": "ipython",
    "version": 3
   },
   "file_extension": ".py",
   "mimetype": "text/x-python",
   "name": "python",
   "nbconvert_exporter": "python",
   "pygments_lexer": "ipython3",
   "version": "3.10.3"
  }
 },
 "nbformat": 4,
 "nbformat_minor": 5
}
